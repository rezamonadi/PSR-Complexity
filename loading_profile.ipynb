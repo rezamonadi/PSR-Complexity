{
 "cells": [
  {
   "cell_type": "code",
   "execution_count": 10,
   "id": "29f2c562-9642-4889-b574-466285e3785d",
   "metadata": {},
   "outputs": [],
   "source": [
    "import pdat\n",
    "import os\n",
    "import numpy as np\n",
    "import antropy as ant\n",
    "import matplotlib.pyplot as plt\n"
   ]
  },
  {
   "cell_type": "code",
   "execution_count": 11,
   "id": "201dc3fe-dd82-4ff3-bf63-0bdf82327bec",
   "metadata": {},
   "outputs": [],
   "source": [
    "file_names = ['f210820_041554.DFp', \n",
    "            'f210820_105959.DFp',\n",
    "            'f210823_120959.DFp',\n",
    "            'f210823_124534.DFp',\n",
    "            'f210828_190858.DFp',\n",
    "            'f210906_152306.DFp',\n",
    "            'f210920_142859.DFp',\n",
    "            'f210921_002549.DFp',\n",
    "            'f210921_004724.DFp',\n",
    "            'f210922_085559.DFp',\n",
    "            'f210929_090945.DFp']"
   ]
  },
  {
   "cell_type": "code",
   "execution_count": 16,
   "id": "49f1c16d-476d-4080-a212-14d38495af3c",
   "metadata": {},
   "outputs": [
    {
     "name": "stdout",
     "output_type": "stream",
     "text": [
      "Loading PSRFITS file from path:\n",
      "    'Wang/f210820_041554.DFp'.\n",
      "(101769, 1, 1, 512)\n"
     ]
    },
    {
     "ename": "ValueError",
     "evalue": "Error: order * delay should be lower than x.size",
     "output_type": "error",
     "traceback": [
      "\u001b[0;31m---------------------------------------------------------------------------\u001b[0m",
      "\u001b[0;31mValueError\u001b[0m                                Traceback (most recent call last)",
      "Cell \u001b[0;32mIn[16], line 36\u001b[0m\n\u001b[1;32m     33\u001b[0m \u001b[38;5;28;01mfor\u001b[39;00m i \u001b[38;5;129;01min\u001b[39;00m \u001b[38;5;28mrange\u001b[39m(np\u001b[38;5;241m.\u001b[39mshape(DATA)[\u001b[38;5;241m3\u001b[39m]):\n\u001b[1;32m     34\u001b[0m     Flux_all[i] \u001b[38;5;241m=\u001b[39m np\u001b[38;5;241m.\u001b[39msum(DATA[:,\u001b[38;5;241m0\u001b[39m,\u001b[38;5;241m0\u001b[39m,i]\u001b[38;5;241m*\u001b[39mDAT_SCL[:] \u001b[38;5;241m+\u001b[39m DAT_OFFS[:])\n\u001b[0;32m---> 36\u001b[0m perm_entropy_average_pulse \u001b[38;5;241m=\u001b[39m ant\u001b[38;5;241m.\u001b[39mperm_entropy(Flux_all, order\u001b[38;5;241m=\u001b[39m\u001b[38;5;241m2\u001b[39m, delay\u001b[38;5;241m=\u001b[39m\u001b[38;5;241m1\u001b[39m, normalize\u001b[38;5;241m=\u001b[39m\u001b[38;5;28;01mTrue\u001b[39;00m)\n\u001b[1;32m     37\u001b[0m \u001b[38;5;28mprint\u001b[39m(perm_entropy_average_pulse)\n",
      "File \u001b[0;32m~/anaconda3/lib/python3.12/site-packages/antropy/entropy.py:134\u001b[0m, in \u001b[0;36mperm_entropy\u001b[0;34m(x, order, delay, normalize)\u001b[0m\n\u001b[1;32m    132\u001b[0m \u001b[38;5;28;01massert\u001b[39;00m delay \u001b[38;5;241m>\u001b[39m \u001b[38;5;241m0\u001b[39m, \u001b[38;5;124m\"\u001b[39m\u001b[38;5;124mdelay must be greater than zero.\u001b[39m\u001b[38;5;124m\"\u001b[39m\n\u001b[1;32m    133\u001b[0m \u001b[38;5;66;03m# Embed x and sort the order of permutations\u001b[39;00m\n\u001b[0;32m--> 134\u001b[0m sorted_idx \u001b[38;5;241m=\u001b[39m _embed(x, order\u001b[38;5;241m=\u001b[39morder, delay\u001b[38;5;241m=\u001b[39mdelay)\u001b[38;5;241m.\u001b[39margsort(kind\u001b[38;5;241m=\u001b[39m\u001b[38;5;124m\"\u001b[39m\u001b[38;5;124mquicksort\u001b[39m\u001b[38;5;124m\"\u001b[39m)\n\u001b[1;32m    135\u001b[0m \u001b[38;5;66;03m# Associate unique integer to each permutations\u001b[39;00m\n\u001b[1;32m    136\u001b[0m hashval \u001b[38;5;241m=\u001b[39m (np\u001b[38;5;241m.\u001b[39mmultiply(sorted_idx, hashmult))\u001b[38;5;241m.\u001b[39msum(\u001b[38;5;241m1\u001b[39m)\n",
      "File \u001b[0;32m~/anaconda3/lib/python3.12/site-packages/antropy/utils.py:33\u001b[0m, in \u001b[0;36m_embed\u001b[0;34m(x, order, delay)\u001b[0m\n\u001b[1;32m     31\u001b[0m \u001b[38;5;28;01massert\u001b[39;00m x\u001b[38;5;241m.\u001b[39mndim \u001b[38;5;129;01min\u001b[39;00m [\u001b[38;5;241m1\u001b[39m, \u001b[38;5;241m2\u001b[39m], \u001b[38;5;124m\"\u001b[39m\u001b[38;5;124mOnly 1D or 2D arrays are currently supported.\u001b[39m\u001b[38;5;124m\"\u001b[39m\n\u001b[1;32m     32\u001b[0m \u001b[38;5;28;01mif\u001b[39;00m order \u001b[38;5;241m*\u001b[39m delay \u001b[38;5;241m>\u001b[39m N:\n\u001b[0;32m---> 33\u001b[0m     \u001b[38;5;28;01mraise\u001b[39;00m \u001b[38;5;167;01mValueError\u001b[39;00m(\u001b[38;5;124m\"\u001b[39m\u001b[38;5;124mError: order * delay should be lower than x.size\u001b[39m\u001b[38;5;124m\"\u001b[39m)\n\u001b[1;32m     34\u001b[0m \u001b[38;5;28;01mif\u001b[39;00m delay \u001b[38;5;241m<\u001b[39m \u001b[38;5;241m1\u001b[39m:\n\u001b[1;32m     35\u001b[0m     \u001b[38;5;28;01mraise\u001b[39;00m \u001b[38;5;167;01mValueError\u001b[39;00m(\u001b[38;5;124m\"\u001b[39m\u001b[38;5;124mDelay has to be at least 1.\u001b[39m\u001b[38;5;124m\"\u001b[39m)\n",
      "\u001b[0;31mValueError\u001b[0m: Error: order * delay should be lower than x.size"
     ]
    }
   ],
   "source": [
    "# psrf1 = pdat.psrfits('Wang/raw/f210820_041554.DFp')\n",
    "# psrf1[4].read_header()\n",
    "\n",
    "for address in file_names:   \n",
    "    # print('Wang/'+address)\n",
    "    psrfit_data = pdat.psrfits('Wang/'+address)\n",
    "    if address==\"f210906_152306.DFp\" or address == 'f210921_004724.DFp':\n",
    "        data_all = psrfit_data[1].read()\n",
    "    else:\n",
    "        data_all = psrfit_data[4].read()\n",
    "      \n",
    "    DATA     = data_all[\"DATA\"] \n",
    "    DAT_SCL  = data_all[\"DAT_SCL\"]\n",
    "    DAT_OFFS = data_all[\"DAT_OFFS\"]\n",
    "    DAT_FREQ = data_all[\"DAT_FREQ\"]\n",
    "    print(np.shape(DATA))\n",
    "    Flux_all = np.zeros([np.shape(DATA)[3],1])  # average pulse profile\n",
    "    \n",
    "    # initilizing Statistical measures for single pulses \n",
    "    perm_entropy_single_pulses = np.zeros([np.shape(DATA)[0],1])\n",
    "    \n",
    "    # Loading Single Pulses \n",
    "    # for i in range(np.shape(DATA)[0]):\n",
    "    #     Single_Pulses = np.zeros(np.shape(DATA)[3]) # Single pulse profiles for each frequesncy \n",
    "    #     Single_Pulses = DATA[i,0,0,:]*DAT_SCL[i] + DAT_OFFS[i]\n",
    "    #     # call any statistics/complexity functions and replace it with np.std\n",
    "    #     perm_entropy_single_pulses[i] = ant.perm_entropy(Single_Pulses, order=3, delay=1, normalize=True)\n",
    "\n",
    "    # plt.hist(perm_entropy_single_pulses)\n",
    "    # plt.savefig('statFigs/perm_entropy/' + address+'.png', dpi=400)\n",
    "    # plt.show()\n",
    "    #plotting average pulse \n",
    "    for i in range(np.shape(DATA)[3]):\n",
    "        Flux_all[i] = np.sum(DATA[:,0,0,i]*DAT_SCL[:] + DAT_OFFS[:])\n",
    "\n",
    "    perm_entropy_average_pulse = ant.perm_entropy(Flux_all, order=2, delay=1, normalize=True)\n",
    "    print(perm_entropy_average_pulse)\n",
    "\n",
    "    \n",
    "    # # # seems like we have 512 time channels in \n",
    "    # fig = plt.figure()\n",
    "    # plt.plot(Flux_all/np.max(Flux_all))\n",
    "    # plt.xlabel('Phase')\n",
    "    # plt.ylabel('Normalized Total Flux')\n",
    "    # plt.savefig('PulseProfiles/' + address+'.png', dpi=400)\n",
    "    # plt.close()"
   ]
  },
  {
   "cell_type": "code",
   "execution_count": 18,
   "id": "faac2f4f-9266-4c40-bb36-00343a6e0199",
   "metadata": {},
   "outputs": [
    {
     "data": {
      "text/plain": [
       "(256,)"
      ]
     },
     "execution_count": 18,
     "metadata": {},
     "output_type": "execute_result"
    }
   ],
   "source": [
    "np.shape(Single_Pulses)"
   ]
  },
  {
   "cell_type": "code",
   "execution_count": null,
   "id": "11d20010-ade8-44d7-ac88-57be9b2659d1",
   "metadata": {},
   "outputs": [],
   "source": []
  }
 ],
 "metadata": {
  "kernelspec": {
   "display_name": "Python 3 (ipykernel)",
   "language": "python",
   "name": "python3"
  },
  "language_info": {
   "codemirror_mode": {
    "name": "ipython",
    "version": 3
   },
   "file_extension": ".py",
   "mimetype": "text/x-python",
   "name": "python",
   "nbconvert_exporter": "python",
   "pygments_lexer": "ipython3",
   "version": "3.12.4"
  }
 },
 "nbformat": 4,
 "nbformat_minor": 5
}
