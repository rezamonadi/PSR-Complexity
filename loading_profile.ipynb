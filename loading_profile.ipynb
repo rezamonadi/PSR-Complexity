{
 "cells": [
  {
   "cell_type": "code",
   "execution_count": 3,
   "id": "29f2c562-9642-4889-b574-466285e3785d",
   "metadata": {},
   "outputs": [],
   "source": [
    "import pdat\n",
    "import os\n",
    "import numpy as np\n",
    "import matplotlib.pyplot as plt\n"
   ]
  },
  {
   "cell_type": "code",
   "execution_count": 4,
   "id": "201dc3fe-dd82-4ff3-bf63-0bdf82327bec",
   "metadata": {},
   "outputs": [],
   "source": [
    "file_names = ['f210820_041554.DFp', \n",
    "            'f210820_105959.DFp',\n",
    "            'f210823_120959.DFp',\n",
    "            'f210823_124534.DFp',\n",
    "            'f210828_190858.DFp',\n",
    "            'f210906_152306.DFp',\n",
    "            'f210920_142859.DFp',\n",
    "            'f210921_002549.DFp',\n",
    "            'f210921_004724.DFp',\n",
    "            'f210922_085559.DFp',\n",
    "            'f210929_090945.DFp']"
   ]
  },
  {
   "cell_type": "code",
   "execution_count": 23,
   "id": "49f1c16d-476d-4080-a212-14d38495af3c",
   "metadata": {},
   "outputs": [
    {
     "name": "stdout",
     "output_type": "stream",
     "text": [
      "Loading PSRFITS file from path:\n",
      "    'Wang/f210820_041554.DFp'.\n",
      "(101769, 1, 1, 512)\n",
      "Loading PSRFITS file from path:\n",
      "    'Wang/f210820_105959.DFp'.\n",
      "(125899, 1, 1, 256)\n",
      "Loading PSRFITS file from path:\n",
      "    'Wang/f210823_120959.DFp'.\n",
      "(225500, 1, 1, 512)\n",
      "Loading PSRFITS file from path:\n",
      "    'Wang/f210823_124534.DFp'.\n",
      "(152940, 1, 1, 512)\n",
      "Loading PSRFITS file from path:\n",
      "    'Wang/f210828_190858.DFp'.\n",
      "(117075, 1, 1, 256)\n",
      "Loading PSRFITS file from path:\n",
      "    'Wang/f210906_152306.DFp'.\n",
      "(72971, 1, 1, 1024)\n",
      "Loading PSRFITS file from path:\n",
      "    'Wang/f210920_142859.DFp'.\n",
      "(123483, 1, 1, 256)\n",
      "Loading PSRFITS file from path:\n",
      "    'Wang/f210921_002549.DFp'.\n",
      "(186623, 1, 1, 256)\n",
      "Loading PSRFITS file from path:\n",
      "    'Wang/f210921_004724.DFp'.\n",
      "(121103, 1, 1, 256)\n",
      "Loading PSRFITS file from path:\n",
      "    'Wang/f210922_085559.DFp'.\n",
      "(91124, 1, 1, 256)\n",
      "Loading PSRFITS file from path:\n",
      "    'Wang/f210929_090945.DFp'.\n",
      "(97484, 1, 1, 256)\n"
     ]
    }
   ],
   "source": [
    "# psrf1 = pdat.psrfits('Wang/raw/f210820_041554.DFp')\n",
    "# psrf1[4].read_header()\n",
    "\n",
    "for address in file_names:   \n",
    "    # print('Wang/'+address)\n",
    "    psrfit_data = pdat.psrfits('Wang/'+address)\n",
    "    if address==\"f210906_152306.DFp\" or address == 'f210921_004724.DFp':\n",
    "        data_all = psrfit_data[1].read()\n",
    "    else:\n",
    "        data_all = psrfit_data[4].read()\n",
    "      \n",
    "    DATA     = data_all[\"DATA\"] \n",
    "    DAT_SCL  = data_all[\"DAT_SCL\"]\n",
    "    DAT_OFFS = data_all[\"DAT_OFFS\"]\n",
    "    DAT_FREQ = data_all[\"DAT_FREQ\"]\n",
    "    print(np.shape(DATA))\n",
    "    Flux_all = np.zeros([np.shape(DATA)[3],1])  # average pulse profile\n",
    "    \n",
    "    # initilizing Statistical measures for single pulses \n",
    "    std_single_pulses = np.zeros([np.shape(DATA)[0],1])\n",
    "    \n",
    "    # Loading Single Pulses \n",
    "    for i in range(np.shape(DATA)[0]):\n",
    "        Single_Pulses = np.zeros(np.shape(DATA)[3]) # Single pulse profiles for each frequesncy \n",
    "        Single_Pulses = DATA[i,0,0,:]*DAT_SCL[i] + DAT_OFFS[i]\n",
    "        # call any statistics/complexity functions and replace it with np.std\n",
    "        std_single_pulses[i] = np.std(Single_Pulses)\n",
    "\n",
    "    plt.hist(std_single_pulses)\n",
    "    plt.savefig('statFigs/' + address+'.png', dpi=400)\n",
    "    plt.close()\n",
    "    #plotting average pulse \n",
    "    for i in range(np.shape(DATA)[3]):\n",
    "        Flux_all[i] = np.sum(DATA[:,0,0,i]*DAT_SCL[:] + DAT_OFFS[:])\n",
    "    \n",
    "    \n",
    "    # # seems like we have 512 time channels in \n",
    "    # fig = plt.figure()\n",
    "    # plt.plot(Flux_all/np.max(Flux_all))\n",
    "    # plt.xlabel('Phase')\n",
    "    # plt.ylabel('Normalized Total Flux')\n",
    "    plt.savefig('PulseProfiles/' + address+'.png', dpi=400)\n",
    "    plt.close()"
   ]
  },
  {
   "cell_type": "code",
   "execution_count": null,
   "id": "faac2f4f-9266-4c40-bb36-00343a6e0199",
   "metadata": {},
   "outputs": [],
   "source": []
  }
 ],
 "metadata": {
  "kernelspec": {
   "display_name": "Python 3 (ipykernel)",
   "language": "python",
   "name": "python3"
  },
  "language_info": {
   "codemirror_mode": {
    "name": "ipython",
    "version": 3
   },
   "file_extension": ".py",
   "mimetype": "text/x-python",
   "name": "python",
   "nbconvert_exporter": "python",
   "pygments_lexer": "ipython3",
   "version": "3.12.4"
  }
 },
 "nbformat": 4,
 "nbformat_minor": 5
}
